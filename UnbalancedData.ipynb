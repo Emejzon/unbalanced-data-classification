{
 "cells": [
  {
   "cell_type": "markdown",
   "metadata": {},
   "source": [
    "# Unbalanced data classification techniques\n",
    "**Jan Chudy**  \n",
    "Overview of **techniques for unbalanced data classification** used to date and their comparison.\n",
    "\n",
    "The main objective of this notebook is to show and compare some of the techniques used for classification on unbalanced datasets. Most of these techniques are resampling strategies which are modifying the dataset in order to help our model classify the minority class (which is in most of the cases the most important one)."
   ]
  },
  {
   "cell_type": "markdown",
   "metadata": {},
   "source": [
    "References:  \n",
    "- [1] Porto Seguro’s Safe Driver Prediction on Kaggle: https://www.kaggle.com/c/porto-seguro-safe-driver-prediction\n",
    "- [2] T. Fawcett - Learning from Imbalanced Classes: https://www.svds.com/learning-imbalanced-classes/\n",
    "- [3] S. Narkhede - Understanding AUC - ROC Curve: https://towardsdatascience.com/understanding-auc-roc-curve-68b2303cc9c5\n",
    "- [4] S. Kampakis - Performance Measures: Cohen’s Kappa statistic: http://thedatascientist.com/performance-measures-cohens-kappa-statistic/\n",
    "- [X] R. Alencar - Resampling strategies for imbalanced datasets: https://www.kaggle.com/rafjaa/resampling-strategies-for-imbalanced-datasets"
   ]
  },
  {
   "cell_type": "markdown",
   "metadata": {},
   "source": [
    "### Importing libraries\n",
    "\n",
    "Here are **all the libraries** we will need. Let's start with the basic ones:"
   ]
  },
  {
   "cell_type": "code",
   "execution_count": 1,
   "metadata": {},
   "outputs": [],
   "source": [
    "import numpy as np # advanced math functionalities\n",
    "import pandas as pd # powerful data structures for data analysis\n",
    "import matplotlib.pyplot as plt # a numerical plotting library\n",
    "import seaborn as sns # statistical data visualization\n",
    "\n",
    "# import warnings"
   ]
  },
  {
   "cell_type": "markdown",
   "metadata": {},
   "source": [
    "Configuring some options:"
   ]
  },
  {
   "cell_type": "code",
   "execution_count": 2,
   "metadata": {},
   "outputs": [],
   "source": [
    "pd.set_option('display.max_columns', 60) # forces pandas to displat 60 columns at a time\n",
    "\n",
    "# configure seaborn to our liking\n",
    "sns.set_style('darkgrid', {\"axes.facecolor\": \".95\", \"axes.edgecolor\": \"black\", \\\n",
    "                           \"xtick.bottom\": \"True\", \"ytick.left\": \"True\"})\n",
    "sns.set_context(\"notebook\")\n",
    "sns.set_palette([\"#28abe3\", \"#db3340\", \"#e8b71a\", \"#1fda9a\", \"#f7eac8\"])\n",
    "blend_palette = sns.diverging_palette(258, 12, sep=20, as_cmap=True)\n",
    "\n",
    "# plots within notebook versus launching a separate window\n",
    "%matplotlib inline\n",
    "\n",
    "# warnings.filterwarnings('ignore')"
   ]
  },
  {
   "cell_type": "markdown",
   "metadata": {},
   "source": [
    "And some specific libraries and utilities like models, metrics and other algorithms. We will import everything here, nevertheless, I will also add a commented import in every example as needed (in order for you to know which includes are needed for that specific example/model)."
   ]
  },
  {
   "cell_type": "code",
   "execution_count": 3,
   "metadata": {},
   "outputs": [],
   "source": [
    "import imblearn # Python imbalanced-learn module\n",
    "from xgboost import XGBClassifier # XGBoost classifier\n",
    "from sklearn.linear_model import LogisticRegression # Logistic Regression classifier\n",
    "\n",
    "from imblearn.under_sampling import RandomUnderSampler # random under-sampling\n",
    "from imblearn.over_sampling import RandomOverSampler # random over-sampling\n",
    "from imblearn.over_sampling import SMOTE # SMOTE algorithm\n",
    "from imblearn.under_sampling import TomekLinks # Tomek Links algorithm\n",
    "from imblearn.combine import SMOTETomek # SMOTE + Tomek Links algorithm\n",
    "from imblearn.combine import SMOTEENN # SMOTEENN algorythm\n",
    "\n",
    "from sklearn.model_selection import train_test_split # for splitting dataset into train and test portions\n",
    "from sklearn.metrics import accuracy_score # accuracy metric\n",
    "from sklearn.metrics import confusion_matrix # confusion_matrix\n",
    "# from sklearn.metrics import f1_score # F1 score metric\n",
    "# from sklearn.metrics import recall_score # recall metric\n",
    "# from sklearn.metrics import precision_score # precision metric\n",
    "from sklearn.datasets import make_classification # creation of sample dataset"
   ]
  },
  {
   "cell_type": "markdown",
   "metadata": {},
   "source": [
    "# Unbalanced Data\n",
    "\n",
    "Unbalanced data (or class imbalance) typically refers to a machine learning classification problem where the classes do not make up equal portions of your dataset (Class A - 2%/Class B - 98% of the dataset). Having unbalanced data is very common in general and in practice, you can come across extremely unbalanced data.\n",
    "\n",
    "**Examples <sup>[2]</sup>:**\n",
    "- About 2% of credit card accounts are defrauded per year.\n",
    "- Medical screening for a condition is usually performed on a large population of people without the condition, to detect a small minority with it (e.g., HIV prevalence in the USA is ~0.4%).\n",
    "- Disk drive failures are approximately ~1% per year.\n",
    "- The conversion rates of online ads has been estimated to lie between 10<sup>-3</sup> to 10<sup>-6</sup>.\n",
    "- Factory production defect rates typically run about 0.1%."
   ]
  },
  {
   "cell_type": "markdown",
   "metadata": {},
   "source": [
    "## Our Dataset\n",
    "\n",
    "The dataset we are going to use for our testing is from the [Porto Seguro’s Safe Driver Prediction competition on Kaggle](https://www.kaggle.com/c/porto-seguro-safe-driver-prediction/). The objective of this dataset is to predict the probability that a driver files a claim in the next year (classification problem).\n",
    "\n",
    "**Data Description <sup>[1]</sup>:**\n",
    "In the train and test data, features that belong to similar groupings are tagged as such in the feature names (e.g., <code>ind</code>, <code>reg</code>, <code>car</code>, <code>calc</code>). In addition, feature names include the postfix <code>bin</code> to indicate binary features and <code>cat</code> to indicate categorical features. Features without these designations are either continuous or ordinal. Values of <code>-1</code> indicate that the feature was missing from the observation. The <code>target</code> columns signifies whether or not a claim was filed for that policy holder.\n",
    "\n",
    "We can load the dataset and take a peek at its columns and values."
   ]
  },
  {
   "cell_type": "code",
   "execution_count": 4,
   "metadata": {},
   "outputs": [],
   "source": [
    "# read data into pandas\n",
    "df = pd.read_csv('data/train.csv')"
   ]
  },
  {
   "cell_type": "code",
   "execution_count": 5,
   "metadata": {},
   "outputs": [
    {
     "name": "stdout",
     "output_type": "stream",
     "text": [
      "(595212, 59)\n"
     ]
    },
    {
     "data": {
      "text/html": [
       "<div>\n",
       "<style scoped>\n",
       "    .dataframe tbody tr th:only-of-type {\n",
       "        vertical-align: middle;\n",
       "    }\n",
       "\n",
       "    .dataframe tbody tr th {\n",
       "        vertical-align: top;\n",
       "    }\n",
       "\n",
       "    .dataframe thead th {\n",
       "        text-align: right;\n",
       "    }\n",
       "</style>\n",
       "<table border=\"1\" class=\"dataframe\">\n",
       "  <thead>\n",
       "    <tr style=\"text-align: right;\">\n",
       "      <th></th>\n",
       "      <th>id</th>\n",
       "      <th>target</th>\n",
       "      <th>ps_ind_01</th>\n",
       "      <th>ps_ind_02_cat</th>\n",
       "      <th>ps_ind_03</th>\n",
       "      <th>ps_ind_04_cat</th>\n",
       "      <th>ps_ind_05_cat</th>\n",
       "      <th>ps_ind_06_bin</th>\n",
       "      <th>ps_ind_07_bin</th>\n",
       "      <th>ps_ind_08_bin</th>\n",
       "      <th>ps_ind_09_bin</th>\n",
       "      <th>ps_ind_10_bin</th>\n",
       "      <th>ps_ind_11_bin</th>\n",
       "      <th>ps_ind_12_bin</th>\n",
       "      <th>ps_ind_13_bin</th>\n",
       "      <th>ps_ind_14</th>\n",
       "      <th>ps_ind_15</th>\n",
       "      <th>ps_ind_16_bin</th>\n",
       "      <th>ps_ind_17_bin</th>\n",
       "      <th>ps_ind_18_bin</th>\n",
       "      <th>ps_reg_01</th>\n",
       "      <th>ps_reg_02</th>\n",
       "      <th>ps_reg_03</th>\n",
       "      <th>ps_car_01_cat</th>\n",
       "      <th>ps_car_02_cat</th>\n",
       "      <th>ps_car_03_cat</th>\n",
       "      <th>ps_car_04_cat</th>\n",
       "      <th>ps_car_05_cat</th>\n",
       "      <th>ps_car_06_cat</th>\n",
       "      <th>ps_car_07_cat</th>\n",
       "      <th>ps_car_08_cat</th>\n",
       "      <th>ps_car_09_cat</th>\n",
       "      <th>ps_car_10_cat</th>\n",
       "      <th>ps_car_11_cat</th>\n",
       "      <th>ps_car_11</th>\n",
       "      <th>ps_car_12</th>\n",
       "      <th>ps_car_13</th>\n",
       "      <th>ps_car_14</th>\n",
       "      <th>ps_car_15</th>\n",
       "      <th>ps_calc_01</th>\n",
       "      <th>ps_calc_02</th>\n",
       "      <th>ps_calc_03</th>\n",
       "      <th>ps_calc_04</th>\n",
       "      <th>ps_calc_05</th>\n",
       "      <th>ps_calc_06</th>\n",
       "      <th>ps_calc_07</th>\n",
       "      <th>ps_calc_08</th>\n",
       "      <th>ps_calc_09</th>\n",
       "      <th>ps_calc_10</th>\n",
       "      <th>ps_calc_11</th>\n",
       "      <th>ps_calc_12</th>\n",
       "      <th>ps_calc_13</th>\n",
       "      <th>ps_calc_14</th>\n",
       "      <th>ps_calc_15_bin</th>\n",
       "      <th>ps_calc_16_bin</th>\n",
       "      <th>ps_calc_17_bin</th>\n",
       "      <th>ps_calc_18_bin</th>\n",
       "      <th>ps_calc_19_bin</th>\n",
       "      <th>ps_calc_20_bin</th>\n",
       "    </tr>\n",
       "  </thead>\n",
       "  <tbody>\n",
       "    <tr>\n",
       "      <th>0</th>\n",
       "      <td>7</td>\n",
       "      <td>0</td>\n",
       "      <td>2</td>\n",
       "      <td>2</td>\n",
       "      <td>5</td>\n",
       "      <td>1</td>\n",
       "      <td>0</td>\n",
       "      <td>0</td>\n",
       "      <td>1</td>\n",
       "      <td>0</td>\n",
       "      <td>0</td>\n",
       "      <td>0</td>\n",
       "      <td>0</td>\n",
       "      <td>0</td>\n",
       "      <td>0</td>\n",
       "      <td>0</td>\n",
       "      <td>11</td>\n",
       "      <td>0</td>\n",
       "      <td>1</td>\n",
       "      <td>0</td>\n",
       "      <td>0.7</td>\n",
       "      <td>0.2</td>\n",
       "      <td>0.718070</td>\n",
       "      <td>10</td>\n",
       "      <td>1</td>\n",
       "      <td>-1</td>\n",
       "      <td>0</td>\n",
       "      <td>1</td>\n",
       "      <td>4</td>\n",
       "      <td>1</td>\n",
       "      <td>0</td>\n",
       "      <td>0</td>\n",
       "      <td>1</td>\n",
       "      <td>12</td>\n",
       "      <td>2</td>\n",
       "      <td>0.400000</td>\n",
       "      <td>0.883679</td>\n",
       "      <td>0.370810</td>\n",
       "      <td>3.605551</td>\n",
       "      <td>0.6</td>\n",
       "      <td>0.5</td>\n",
       "      <td>0.2</td>\n",
       "      <td>3</td>\n",
       "      <td>1</td>\n",
       "      <td>10</td>\n",
       "      <td>1</td>\n",
       "      <td>10</td>\n",
       "      <td>1</td>\n",
       "      <td>5</td>\n",
       "      <td>9</td>\n",
       "      <td>1</td>\n",
       "      <td>5</td>\n",
       "      <td>8</td>\n",
       "      <td>0</td>\n",
       "      <td>1</td>\n",
       "      <td>1</td>\n",
       "      <td>0</td>\n",
       "      <td>0</td>\n",
       "      <td>1</td>\n",
       "    </tr>\n",
       "    <tr>\n",
       "      <th>1</th>\n",
       "      <td>9</td>\n",
       "      <td>0</td>\n",
       "      <td>1</td>\n",
       "      <td>1</td>\n",
       "      <td>7</td>\n",
       "      <td>0</td>\n",
       "      <td>0</td>\n",
       "      <td>0</td>\n",
       "      <td>0</td>\n",
       "      <td>1</td>\n",
       "      <td>0</td>\n",
       "      <td>0</td>\n",
       "      <td>0</td>\n",
       "      <td>0</td>\n",
       "      <td>0</td>\n",
       "      <td>0</td>\n",
       "      <td>3</td>\n",
       "      <td>0</td>\n",
       "      <td>0</td>\n",
       "      <td>1</td>\n",
       "      <td>0.8</td>\n",
       "      <td>0.4</td>\n",
       "      <td>0.766078</td>\n",
       "      <td>11</td>\n",
       "      <td>1</td>\n",
       "      <td>-1</td>\n",
       "      <td>0</td>\n",
       "      <td>-1</td>\n",
       "      <td>11</td>\n",
       "      <td>1</td>\n",
       "      <td>1</td>\n",
       "      <td>2</td>\n",
       "      <td>1</td>\n",
       "      <td>19</td>\n",
       "      <td>3</td>\n",
       "      <td>0.316228</td>\n",
       "      <td>0.618817</td>\n",
       "      <td>0.388716</td>\n",
       "      <td>2.449490</td>\n",
       "      <td>0.3</td>\n",
       "      <td>0.1</td>\n",
       "      <td>0.3</td>\n",
       "      <td>2</td>\n",
       "      <td>1</td>\n",
       "      <td>9</td>\n",
       "      <td>5</td>\n",
       "      <td>8</td>\n",
       "      <td>1</td>\n",
       "      <td>7</td>\n",
       "      <td>3</td>\n",
       "      <td>1</td>\n",
       "      <td>1</td>\n",
       "      <td>9</td>\n",
       "      <td>0</td>\n",
       "      <td>1</td>\n",
       "      <td>1</td>\n",
       "      <td>0</td>\n",
       "      <td>1</td>\n",
       "      <td>0</td>\n",
       "    </tr>\n",
       "    <tr>\n",
       "      <th>2</th>\n",
       "      <td>13</td>\n",
       "      <td>0</td>\n",
       "      <td>5</td>\n",
       "      <td>4</td>\n",
       "      <td>9</td>\n",
       "      <td>1</td>\n",
       "      <td>0</td>\n",
       "      <td>0</td>\n",
       "      <td>0</td>\n",
       "      <td>1</td>\n",
       "      <td>0</td>\n",
       "      <td>0</td>\n",
       "      <td>0</td>\n",
       "      <td>0</td>\n",
       "      <td>0</td>\n",
       "      <td>0</td>\n",
       "      <td>12</td>\n",
       "      <td>1</td>\n",
       "      <td>0</td>\n",
       "      <td>0</td>\n",
       "      <td>0.0</td>\n",
       "      <td>0.0</td>\n",
       "      <td>-1.000000</td>\n",
       "      <td>7</td>\n",
       "      <td>1</td>\n",
       "      <td>-1</td>\n",
       "      <td>0</td>\n",
       "      <td>-1</td>\n",
       "      <td>14</td>\n",
       "      <td>1</td>\n",
       "      <td>1</td>\n",
       "      <td>2</td>\n",
       "      <td>1</td>\n",
       "      <td>60</td>\n",
       "      <td>1</td>\n",
       "      <td>0.316228</td>\n",
       "      <td>0.641586</td>\n",
       "      <td>0.347275</td>\n",
       "      <td>3.316625</td>\n",
       "      <td>0.5</td>\n",
       "      <td>0.7</td>\n",
       "      <td>0.1</td>\n",
       "      <td>2</td>\n",
       "      <td>2</td>\n",
       "      <td>9</td>\n",
       "      <td>1</td>\n",
       "      <td>8</td>\n",
       "      <td>2</td>\n",
       "      <td>7</td>\n",
       "      <td>4</td>\n",
       "      <td>2</td>\n",
       "      <td>7</td>\n",
       "      <td>7</td>\n",
       "      <td>0</td>\n",
       "      <td>1</td>\n",
       "      <td>1</td>\n",
       "      <td>0</td>\n",
       "      <td>1</td>\n",
       "      <td>0</td>\n",
       "    </tr>\n",
       "    <tr>\n",
       "      <th>3</th>\n",
       "      <td>16</td>\n",
       "      <td>0</td>\n",
       "      <td>0</td>\n",
       "      <td>1</td>\n",
       "      <td>2</td>\n",
       "      <td>0</td>\n",
       "      <td>0</td>\n",
       "      <td>1</td>\n",
       "      <td>0</td>\n",
       "      <td>0</td>\n",
       "      <td>0</td>\n",
       "      <td>0</td>\n",
       "      <td>0</td>\n",
       "      <td>0</td>\n",
       "      <td>0</td>\n",
       "      <td>0</td>\n",
       "      <td>8</td>\n",
       "      <td>1</td>\n",
       "      <td>0</td>\n",
       "      <td>0</td>\n",
       "      <td>0.9</td>\n",
       "      <td>0.2</td>\n",
       "      <td>0.580948</td>\n",
       "      <td>7</td>\n",
       "      <td>1</td>\n",
       "      <td>0</td>\n",
       "      <td>0</td>\n",
       "      <td>1</td>\n",
       "      <td>11</td>\n",
       "      <td>1</td>\n",
       "      <td>1</td>\n",
       "      <td>3</td>\n",
       "      <td>1</td>\n",
       "      <td>104</td>\n",
       "      <td>1</td>\n",
       "      <td>0.374166</td>\n",
       "      <td>0.542949</td>\n",
       "      <td>0.294958</td>\n",
       "      <td>2.000000</td>\n",
       "      <td>0.6</td>\n",
       "      <td>0.9</td>\n",
       "      <td>0.1</td>\n",
       "      <td>2</td>\n",
       "      <td>4</td>\n",
       "      <td>7</td>\n",
       "      <td>1</td>\n",
       "      <td>8</td>\n",
       "      <td>4</td>\n",
       "      <td>2</td>\n",
       "      <td>2</td>\n",
       "      <td>2</td>\n",
       "      <td>4</td>\n",
       "      <td>9</td>\n",
       "      <td>0</td>\n",
       "      <td>0</td>\n",
       "      <td>0</td>\n",
       "      <td>0</td>\n",
       "      <td>0</td>\n",
       "      <td>0</td>\n",
       "    </tr>\n",
       "    <tr>\n",
       "      <th>4</th>\n",
       "      <td>17</td>\n",
       "      <td>0</td>\n",
       "      <td>0</td>\n",
       "      <td>2</td>\n",
       "      <td>0</td>\n",
       "      <td>1</td>\n",
       "      <td>0</td>\n",
       "      <td>1</td>\n",
       "      <td>0</td>\n",
       "      <td>0</td>\n",
       "      <td>0</td>\n",
       "      <td>0</td>\n",
       "      <td>0</td>\n",
       "      <td>0</td>\n",
       "      <td>0</td>\n",
       "      <td>0</td>\n",
       "      <td>9</td>\n",
       "      <td>1</td>\n",
       "      <td>0</td>\n",
       "      <td>0</td>\n",
       "      <td>0.7</td>\n",
       "      <td>0.6</td>\n",
       "      <td>0.840759</td>\n",
       "      <td>11</td>\n",
       "      <td>1</td>\n",
       "      <td>-1</td>\n",
       "      <td>0</td>\n",
       "      <td>-1</td>\n",
       "      <td>14</td>\n",
       "      <td>1</td>\n",
       "      <td>1</td>\n",
       "      <td>2</td>\n",
       "      <td>1</td>\n",
       "      <td>82</td>\n",
       "      <td>3</td>\n",
       "      <td>0.316070</td>\n",
       "      <td>0.565832</td>\n",
       "      <td>0.365103</td>\n",
       "      <td>2.000000</td>\n",
       "      <td>0.4</td>\n",
       "      <td>0.6</td>\n",
       "      <td>0.0</td>\n",
       "      <td>2</td>\n",
       "      <td>2</td>\n",
       "      <td>6</td>\n",
       "      <td>3</td>\n",
       "      <td>10</td>\n",
       "      <td>2</td>\n",
       "      <td>12</td>\n",
       "      <td>3</td>\n",
       "      <td>1</td>\n",
       "      <td>1</td>\n",
       "      <td>3</td>\n",
       "      <td>0</td>\n",
       "      <td>0</td>\n",
       "      <td>0</td>\n",
       "      <td>1</td>\n",
       "      <td>1</td>\n",
       "      <td>0</td>\n",
       "    </tr>\n",
       "  </tbody>\n",
       "</table>\n",
       "</div>"
      ],
      "text/plain": [
       "   id  target  ps_ind_01  ps_ind_02_cat  ps_ind_03  ps_ind_04_cat  \\\n",
       "0   7       0          2              2          5              1   \n",
       "1   9       0          1              1          7              0   \n",
       "2  13       0          5              4          9              1   \n",
       "3  16       0          0              1          2              0   \n",
       "4  17       0          0              2          0              1   \n",
       "\n",
       "   ps_ind_05_cat  ps_ind_06_bin  ps_ind_07_bin  ps_ind_08_bin  ps_ind_09_bin  \\\n",
       "0              0              0              1              0              0   \n",
       "1              0              0              0              1              0   \n",
       "2              0              0              0              1              0   \n",
       "3              0              1              0              0              0   \n",
       "4              0              1              0              0              0   \n",
       "\n",
       "   ps_ind_10_bin  ps_ind_11_bin  ps_ind_12_bin  ps_ind_13_bin  ps_ind_14  \\\n",
       "0              0              0              0              0          0   \n",
       "1              0              0              0              0          0   \n",
       "2              0              0              0              0          0   \n",
       "3              0              0              0              0          0   \n",
       "4              0              0              0              0          0   \n",
       "\n",
       "   ps_ind_15  ps_ind_16_bin  ps_ind_17_bin  ps_ind_18_bin  ps_reg_01  \\\n",
       "0         11              0              1              0        0.7   \n",
       "1          3              0              0              1        0.8   \n",
       "2         12              1              0              0        0.0   \n",
       "3          8              1              0              0        0.9   \n",
       "4          9              1              0              0        0.7   \n",
       "\n",
       "   ps_reg_02  ps_reg_03  ps_car_01_cat  ps_car_02_cat  ps_car_03_cat  \\\n",
       "0        0.2   0.718070             10              1             -1   \n",
       "1        0.4   0.766078             11              1             -1   \n",
       "2        0.0  -1.000000              7              1             -1   \n",
       "3        0.2   0.580948              7              1              0   \n",
       "4        0.6   0.840759             11              1             -1   \n",
       "\n",
       "   ps_car_04_cat  ps_car_05_cat  ps_car_06_cat  ps_car_07_cat  ps_car_08_cat  \\\n",
       "0              0              1              4              1              0   \n",
       "1              0             -1             11              1              1   \n",
       "2              0             -1             14              1              1   \n",
       "3              0              1             11              1              1   \n",
       "4              0             -1             14              1              1   \n",
       "\n",
       "   ps_car_09_cat  ps_car_10_cat  ps_car_11_cat  ps_car_11  ps_car_12  \\\n",
       "0              0              1             12          2   0.400000   \n",
       "1              2              1             19          3   0.316228   \n",
       "2              2              1             60          1   0.316228   \n",
       "3              3              1            104          1   0.374166   \n",
       "4              2              1             82          3   0.316070   \n",
       "\n",
       "   ps_car_13  ps_car_14  ps_car_15  ps_calc_01  ps_calc_02  ps_calc_03  \\\n",
       "0   0.883679   0.370810   3.605551         0.6         0.5         0.2   \n",
       "1   0.618817   0.388716   2.449490         0.3         0.1         0.3   \n",
       "2   0.641586   0.347275   3.316625         0.5         0.7         0.1   \n",
       "3   0.542949   0.294958   2.000000         0.6         0.9         0.1   \n",
       "4   0.565832   0.365103   2.000000         0.4         0.6         0.0   \n",
       "\n",
       "   ps_calc_04  ps_calc_05  ps_calc_06  ps_calc_07  ps_calc_08  ps_calc_09  \\\n",
       "0           3           1          10           1          10           1   \n",
       "1           2           1           9           5           8           1   \n",
       "2           2           2           9           1           8           2   \n",
       "3           2           4           7           1           8           4   \n",
       "4           2           2           6           3          10           2   \n",
       "\n",
       "   ps_calc_10  ps_calc_11  ps_calc_12  ps_calc_13  ps_calc_14  ps_calc_15_bin  \\\n",
       "0           5           9           1           5           8               0   \n",
       "1           7           3           1           1           9               0   \n",
       "2           7           4           2           7           7               0   \n",
       "3           2           2           2           4           9               0   \n",
       "4          12           3           1           1           3               0   \n",
       "\n",
       "   ps_calc_16_bin  ps_calc_17_bin  ps_calc_18_bin  ps_calc_19_bin  \\\n",
       "0               1               1               0               0   \n",
       "1               1               1               0               1   \n",
       "2               1               1               0               1   \n",
       "3               0               0               0               0   \n",
       "4               0               0               1               1   \n",
       "\n",
       "   ps_calc_20_bin  \n",
       "0               1  \n",
       "1               0  \n",
       "2               0  \n",
       "3               0  \n",
       "4               0  "
      ]
     },
     "execution_count": 5,
     "metadata": {},
     "output_type": "execute_result"
    }
   ],
   "source": [
    "# display the shape and first 5 rows of the dataset\n",
    "print(df.shape)\n",
    "df.head()"
   ]
  },
  {
   "cell_type": "markdown",
   "metadata": {},
   "source": [
    "The thing we are interested in, however, is how unbalanced the dataset is."
   ]
  },
  {
   "cell_type": "code",
   "execution_count": 6,
   "metadata": {},
   "outputs": [
    {
     "name": "stdout",
     "output_type": "stream",
     "text": [
      "Unique values:  [0 1]\n",
      "Class_0: 573518\n",
      "Class_1: 21694\n",
      "True target values (Class_1) takes 3.64% of the data.\n",
      "Proportion Class_0 to Class_1: 26.44 to 1\n"
     ]
    },
    {
     "data": {
      "image/png": "[encoded data removed]",
      "text/plain": [
       "<Figure size 432x288 with 1 Axes>"
      ]
     },
     "metadata": {
      "needs_background": "light"
     },
     "output_type": "display_data"
    }
   ],
   "source": [
    "# check uniqie values\n",
    "target = df.target\n",
    "print(\"Unique values: \", target.unique())\n",
    "\n",
    "# count rows with these values and compute proportion\n",
    "target_val_cnt = target.value_counts()\n",
    "print(\"Class_0:\", target_val_cnt[0])\n",
    "print(\"Class_1:\", target_val_cnt[1])\n",
    "print(\"True target values (Class_1) takes {:0.2f}% of the data.\".format(target_val_cnt[1]/len(target)*100))\n",
    "print(\"Proportion Class_0 to Class_1: {:0.2f} to 1\".format(target_val_cnt[0] / target_val_cnt[1]))\n",
    "\n",
    "# graphical representation of the proportion\n",
    "sns.barplot(x=target.unique(),y=target_val_cnt)\n",
    "plt.xlabel(\"target\")\n",
    "plt.ylabel(\"count\");\n",
    "plt.title(\"Target class proportion\");"
   ]
  },
  {
   "cell_type": "markdown",
   "metadata": {},
   "source": [
    "# Why is unbalanced data a problem\n",
    "\n",
    "With unbalanced dataset, machine learning algorithms are often biased towards the majority class. Loss functions of traditional algorithms attempt to optimize the accuracy, which is not taking the data distribution into consideration. In unbalanced datasets, accuracy is only reflecting the distribution of the majority class. This is also called the **Accuracy Paradox**. In the most extreme cases, minority target values might be treated as outliers of the majority class.\n",
    "\n",
    "What the model ends up doing in order to optimize the error rate is simply to predict the majority class for every instance (the more unbalanced the dataset). That will give us very high accuracy, which satisfies the model and is a completely correct solution. However, not for our problem, because (most likely) we are trying to correctly predict as much of the minority instances as possible (if a patient got a disease, we want to predict it).\n",
    "\n",
    "Therefore, accuracy is not the right metric to tell us how good is our model doing. A better metric for us to use would be **recall** (percent of positive instances that were classified as positive). However, there are more metrics for our consideration."
   ]
  },
  {
   "cell_type": "markdown",
   "metadata": {},
   "source": [
    "Let's try this on our dataset. We'll train a model and compute its accuracy:"
   ]
  },
  {
   "cell_type": "code",
   "execution_count": 7,
   "metadata": {},
   "outputs": [
    {
     "name": "stdout",
     "output_type": "stream",
     "text": [
      "Accuracy: 96.36%\n"
     ]
    }
   ],
   "source": [
    "# from sklearn.linear_model import LogisticRegression\n",
    "# from sklearn.model_selection import train_test_split\n",
    "# from sklearn.metrics import accuracy_score\n",
    "\n",
    "# drop target and id columns\n",
    "X = df[df.columns[2:]]\n",
    "\n",
    "# devide data into training and testing portion\n",
    "X_train, X_test, y_train, y_test = train_test_split(X, target, test_size=0.2, random_state=1)\n",
    "\n",
    "# train the model and predict classes for testing portion\n",
    "LogReg = LogisticRegression(solver='liblinear')\n",
    "LogReg.fit(X_train, y_train)\n",
    "y_pred = LogReg.predict(X_test)\n",
    "\n",
    "# compute accuracy of the model\n",
    "accuracy = accuracy_score(y_test, y_pred)\n",
    "print(\"Accuracy: {:0.2f}%\".format(accuracy * 100.0))"
   ]
  },
  {
   "cell_type": "markdown",
   "metadata": {},
   "source": [
    "As we can see, the trained model has very high accuracy. We could almost assume, that the model haven't even try to label any instance as a minority class. \n",
    "\n",
    "To find out how well our model really did, we would like to see how instances got misclassified (how many Class_1 targets and Class_0 targets did it miss). Of course, we could compute these values easily, but more interesting and helpful way to evaluate this is **Confusion matrix** (especially, when there are more than two target values)."
   ]
  },
  {
   "cell_type": "code",
   "execution_count": 8,
   "metadata": {
    "scrolled": true
   },
   "outputs": [
    {
     "data": {
      "image/png": "[encoded data removed]",
      "text/plain": [
       "<Figure size 432x288 with 2 Axes>"
      ]
     },
     "metadata": {
      "needs_background": "light"
     },
     "output_type": "display_data"
    }
   ],
   "source": [
    "# from sklearn.metrics import confusion_matrix \n",
    "\n",
    "# compute the Confusion matrix\n",
    "conf_mat = confusion_matrix(y_true=y_test, y_pred=y_pred)\n",
    "\n",
    "# plot a graphical representation of confusion matrix\n",
    "with sns.axes_style({'xtick.bottom': False, 'ytick.left': False}):\n",
    "    sns.heatmap(conf_mat, annot=True, fmt=\"d\", cmap=blend_palette)\n",
    "plt.xlabel('Predicted Class')\n",
    "plt.ylabel('Actual Class');"
   ]
  },
  {
   "cell_type": "markdown",
   "metadata": {},
   "source": [
    "In other words, our model failed miserably solving our problem, because it hasn't classified a single Class_1 instance correctly. As we can see from the confusion matrix, it hasn't even tried to."
   ]
  },
  {
   "cell_type": "markdown",
   "metadata": {},
   "source": [
    "# How can we combat this problem?\n",
    "\n",
    "There are many approaches to this problem. Some of them are manipulating the data you have and some of them the algorithm you use. We will discuss these approaches and try out some of them. Here's an overview:"
   ]
  },
  {
   "cell_type": "markdown",
   "metadata": {},
   "source": [
    "- **Change performance metric**\n",
    "    - ROC curves & AUC\n",
    "    - F1 score\n",
    "    - Cohen’s kappa\n",
    "- **Cost function sensitivity**\n",
    "- **Resampling**\n",
    "    - **Trivial:**\n",
    "        - Getting more data\n",
    "        - Random Under-sampling\n",
    "        - Random Over-sampling\n",
    "    - **Advanced:**\n",
    "        - SMOTE\n",
    "        - ROSE\n",
    "        - Tomek Links\n",
    "    - **Specific:**\n",
    "        - EasyEnsemble\n",
    "        - BalanceCascade\n",
    "        - RUSBoost\n",
    "        - SMOTEBagging\n",
    "        - Underbagging\n",
    "        - Blagging (Balanced bagging)\n",
    "- **Different Perspective**\n",
    "    - Anomaly detection\n",
    "    - Change detection\n",
    "    - Box Drawings"
   ]
  },
  {
   "cell_type": "markdown",
   "metadata": {},
   "source": [
    "While dealing with unbalanced data, you will be trying to come up with the right combination (subset) of these approaches to solve your particular problem."
   ]
  },
  {
   "cell_type": "markdown",
   "metadata": {},
   "source": [
    "## Change performance metric\n",
    "As we have shown earlier, accuracy is not the way to go in terms of model's performance evaluation. There are different performance metric for us to see (or tell our model) how well it is performing. Some of them are more comprehensive than others.\n",
    "\n",
    "We've already used the **Confusion matrix**, which is a very helpful way to see what was classified correctly and what was misclassified. It is also an important reference for some other performance metrics, so let's have a look what is the Confusion matrix showing us."
   ]
  },
  {
   "cell_type": "markdown",
   "metadata": {},
   "source": [
    "| Actual / Predicted |    Negative    |    Positive    |\n",
    "|:------------------:|:--------------:|:--------------:|\n",
    "|      **Negative**      |  True Negative | False Positive |\n",
    "|      **Positive**      | False Negative |  True Positive |"
   ]
  },
  {
   "cell_type": "markdown",
   "metadata": {},
   "source": [
    "<span style=\"font-size:0.8em\">Note: This concept is not limited for binary classification. Right now, we are assuming we have a Positive and a Negative class. You might find Confusion matrixes with a different order of rows/columns.</span>\n",
    "\n",
    "Just for completeness, **Accuracy** is the number all correctly classified instances divided by the total number of instances (<code>(TP + TN) / Total</code>). And we can already tell, why this is not suitable for us.\n",
    "\n",
    "Much better metrics (but still very basic) are the Recall and the Precision. We are usually trying to find the right balance between these two, and in most cases (when the minority class is more important to detect), we are more concerned about the recall.  \n",
    "The **recall** (also Sensitivity or True Positive Rate) is the number of True Positives divided by the number of all positive instances (<code>TP / (TP + FN)</code>). Low recall value indicates a high rate of False Negatives.  \n",
    "The **precision** (also Positive Predictive Value) is the number of True Positives divided by the number all positive predictions made by our model (<code>TP / (TP + FP)</code>).\n",
    "\n",
    "Let's have a look at some more advanced metrics which might be more helpful when dealing with unbalanced data.\n",
    "\n",
    "### Area Under the ROC curve (AUC)\n",
    "ROC is a probability curve plotted with TPR (True Positive Rate) against the FPR (False Positive Rate) where TPR is on y-axis and FPR is on the x-axis. We've mentioned the True Positive Rate above (recall) and False Positive rate can be computed as <code>FP / (TN + FP)</code>.  \n",
    "\n",
    "The Area under the ROC curve is a performance measurement for classification problem at various thresholds settings. It tells how much model is capable of distinguishing between classes - Higher the AUC, better the model is at predicting Class_1 as Class_1 and Class_0 as Class_0. An excellent model has AUC near to the 1 (ROC is hugging the upper-left corner) which means it has a good measure of separability.\n",
    "\n",
    "### F1 Score\n",
    "F1 Score is the weighted average of Precision and Recall, therefore it is a very helpful metric if we need to seek a balance between Precision and Recall AND we have an unbalanced dataset.\n",
    "\n",
    "<code>F1 Score = 2 \\* (Recall \\* Precision) / (Recall + Precision)</code>\n",
    "\n",
    "### Cohen’s kappa\n",
    "Cohen’s kappa is another useful metric helpful mainly in multi-class classification problems or unbalanced data.\n",
    "![image.png](https://wikimedia.org/api/rest_v1/media/math/render/svg/d45fc75d4d1a8d672083492fd147f75e8ba374bd)\n",
    "where $p_o$ is the observed agreement, and $p_e$ is the expected agreement. It basically tells you how much better your classifier is performing over the performance of a classifier that simply guesses at random according to the frequency of each class.\n",
    "\n",
    "There is no standardized way to interpret its values. Landis and Koch (1977) provide a way to characterize values. According to their scheme a value < 0 is indicating no agreement, 0–0.20 as slight, 0.21–0.40 as fair, 0.41–0.60 as moderate, 0.61–0.80 as substantial, and 0.81–1 as almost perfect agreement."
   ]
  },
  {
   "cell_type": "markdown",
   "metadata": {},
   "source": [
    "## Cost function sensitivity\n",
    "Generally, an algorithm presumes, that misclassifying the majority class is identically bad as misclassifying the minority class (as we've demonstrated earlier). We should change the algorithm's perspective on our problem (especially when we are stuck with a specific algorithm we have to use).\n",
    "\n",
    "### Penalization\n",
    "\n",
    "One way to do this is to **penalize our model** for misclassifying a minority class or reward it for classifying it correctly. Either way, our model will pay more attention to minority class instances. To be more precise, it will misclassify more majority instances (giving us more false positives), because it is less costly than misclassifying a minority class instance. This approach is also called **Cost-sensitive learning**.\n",
    "\n",
    "We can define our own **cost matrix**, which is used to calculate the cost and applied to the classifier (we define the cost of each classification of class A as class B). Setting the right penalization for your problem can be very complex.\n",
    "\n",
    "### Adjusting class weights\n",
    "\n",
    "Adjusting the importance of the minority class is another way to penalize our model because it will directly affect the cost of its errors. In other words, we are balancing the data without changing the distribution of any class.\n",
    "\n",
    "Many classifiers from Scikit-learn takes an optional parameter <code>class_weight</code>, that can achieve this."
   ]
  },
  {
   "cell_type": "markdown",
   "metadata": {},
   "source": [
    "## Resampling\n",
    "\n",
    "A very popular approach to dealing with unbalanced data are resampling methods. Resampling methods are manipulating the data in order to balance it. You can either remove instances from the majority class (under-sampling) or adding new instances to minority class (over-sampling). You can also combine under-sampling and oversampling. There quite a few resampling methods out there and they're known to yield promising results on unbalanced data.\n",
    "\n",
    "Resampling methods will help you balance your data, however, every method has its own disadvantages and weaknesses which you have to keep in mind."
   ]
  },
  {
   "cell_type": "markdown",
   "metadata": {},
   "source": [
    "### Trivial Resampling methods\n",
    "\n",
    "The first step when dealing with an unbalanced dataset is to **get more data**. This, of course, is not always possible, but if it is an option, try getting more data. Having more data will help you get better results after performing any other resampling.\n",
    "\n",
    "The first two resampling methods we are going to demonstrate are **random under-sampling** and **random over-sampling**. But first, let's create a small synthetic unbalanced dataset to demonstrate most of our resampling methods."
   ]
  },
  {
   "cell_type": "code",
   "execution_count": 9,
   "metadata": {},
   "outputs": [],
   "source": [
    "# from sklearn.datasets import make_classification\n",
    "\n",
    "# create a synthetic dataset to demonstrate algorithms\n",
    "sX, sy = make_classification(n_features = 2, n_informative = 2, n_redundant = 0, weights = [0.9, 0.1], \\\n",
    "                         flip_y = 0, n_clusters_per_class = 1, class_sep = 0.7, random_state = 122)\n",
    "\n",
    "# transform data into pandas DataFrame\n",
    "sDf = pd.DataFrame(sX)\n",
    "sDf['target'] = sy\n",
    "\n",
    "# define a function for plotting this type of dataset with a given label\n",
    "def plotDemonstration(X, y, label):\n",
    "    sns.scatterplot(X[y==0,0], X[y==0,1], label = \"0\")\n",
    "    sns.scatterplot(X[y==1,0], X[y==1,1], marker=\"D\", label=\"1\")\n",
    "    plt.title(label)\n",
    "    plt.legend()"
   ]
  },
  {
   "cell_type": "code",
   "execution_count": 10,
   "metadata": {},
   "outputs": [
    {
     "data": {
      "image/png": "[encoded data removed]",
      "text/plain": [
       "<Figure size 432x288 with 1 Axes>"
      ]
     },
     "metadata": {
      "needs_background": "light"
     },
     "output_type": "display_data"
    }
   ],
   "source": [
    "# plot class distributions\n",
    "sns.barplot(x=target.unique(),y=sDf.target.value_counts())\n",
    "plt.xlabel(\"target\")\n",
    "plt.ylabel(\"count\");\n",
    "plt.title(\"Target class proportion\");"
   ]
  },
  {
   "cell_type": "code",
   "execution_count": 11,
   "metadata": {},
   "outputs": [
    {
     "data": {
      "image/png": "[encoded data removed]",
      "text/plain": [
       "<Figure size 432x288 with 1 Axes>"
      ]
     },
     "metadata": {
      "needs_background": "light"
     },
     "output_type": "display_data"
    }
   ],
   "source": [
    "# plot a scatter plot of our data\n",
    "plotDemonstration(sX, sy, \"Synthetic dataset\")"
   ]
  },
  {
   "cell_type": "markdown",
   "metadata": {},
   "source": [
    "We now have our own small dataset to demonstrate our resampling methods. Since the dataset is small, we will be able to plot it and see what has happened after we've performed a resampling.\n",
    "\n",
    "We would also like to test these resampling methods on a real-life dataset we have. After we've tried out all our resampling methods, it would be nice to see how they compare to each other and decide which one did best on our dataset. Let's create a table (pandas data frame) where we will be recording our findings throughout the testing."
   ]
  },
  {
   "cell_type": "code",
   "execution_count": 12,
   "metadata": {},
   "outputs": [],
   "source": [
    "# tabel for the overall comparison\n",
    "table_cols = ['Method','TP','TN','FP','FN','Recall','Precision','F1 Score']\n",
    "comparison = pd.DataFrame(columns = table_cols)"
   ]
  },
  {
   "cell_type": "markdown",
   "metadata": {},
   "source": [
    "And because we will be performing the same thing over and over with the only difference being the resampling method, let's create a function that will do it for us and also inform us how did it go and add a line to our table."
   ]
  },
  {
   "cell_type": "code",
   "execution_count": 13,
   "metadata": {},
   "outputs": [],
   "source": [
    "# from sklearn.model_selection import train_test_split\n",
    "# from sklearn.metrics import confusion_matrix\n",
    "\n",
    "# function training and evaluating model using one of the ressampling methods\n",
    "def performMethod(mName, clfunc, resfunc, X, y, table):\n",
    "    '''\n",
    "    Function resamples dataset, and trains model. The model is tested and evaluated.\n",
    "    The evaluation is added to the table.\n",
    "    \n",
    "    mName : name of the resampling method\n",
    "    clfunc : classifier constructior to create our model\n",
    "    resfunc : resampling function defined by us\n",
    "    X : dataset features\n",
    "    y : target variables\n",
    "    '''\n",
    "    # devide data into training and testing portion\n",
    "    X_train, X_test, y_train, y_test = train_test_split(X, y, test_size=0.2, random_state=1)\n",
    "    \n",
    "    # resample training portion of the data\n",
    "    print(\"Resampling testing data using\", mName)\n",
    "    X_train, y_train = resfunc(X_train, y_train)\n",
    "    \n",
    "    # create model and train it on resampled training set and make prediction on testing data\n",
    "    print(\"Creating model using\", clfunc)\n",
    "    model = clfunc()\n",
    "    print(\"Training, predicting, evaluating...\")\n",
    "    model.fit(X_train, y_train)\n",
    "    y_pred = model.predict(X_test)\n",
    "    \n",
    "    # compute the Confusion matrix\n",
    "    conf_mat = confusion_matrix(y_true=y_test, y_pred=y_pred)\n",
    "    # compute recall\n",
    "    recall = conf_mat[1,1] / (conf_mat[1,1] + conf_mat[1,0]) * 100\n",
    "    # compute precision\n",
    "    if (conf_mat[1,1] + conf_mat[0,1]) == 0:\n",
    "        precision = 0\n",
    "    else:\n",
    "        precision = conf_mat[1,1] / (conf_mat[1,1] + conf_mat[0,1]) * 100\n",
    "    # compute f1 score\n",
    "    if (precision + recall) == 0:\n",
    "        f1 = 0\n",
    "    else:\n",
    "        f1 = 2 * (precision * recall) / (precision + recall)\n",
    "    \n",
    "    # Make metrics 'printable'\n",
    "    recall = \"{:0.2f}%\".format(recall)\n",
    "    precision = \"{:0.2f}%\".format(precision)\n",
    "    f1 = \"{:0.2f}%\".format(f1)\n",
    "    \n",
    "    print(\"Recall: \",recall,\"; Precision: \",precision,\"; F1 Score: \",f1)\n",
    "    print(\"TP:\", conf_mat[1,1],\"; TN:\", conf_mat[0,0],\"; FP:\", conf_mat[0,1],\"; FN:\", conf_mat[1,0])\n",
    "    \n",
    "    # plot a graphical representation of confusion matrix\n",
    "    with sns.axes_style({'xtick.bottom': False, 'ytick.left': False}):\n",
    "        sns.heatmap(conf_mat, annot=True, fmt=\"d\", cmap=blend_palette)\n",
    "    plt.xlabel('Predicted Class')\n",
    "    plt.ylabel('Actual Class');\n",
    "    \n",
    "    # write record to the table\n",
    "    record = pd.Series( \\\n",
    "        {'Method':mName,'TP':conf_mat[1,1],'TN':conf_mat[0,0],'FP':conf_mat[0,1],'FN':conf_mat[1,0], \\\n",
    "         'Recall':recall, 'Precision':precision, 'F1 Score':f1} \\\n",
    "                      )\n",
    "    return table.append(record, ignore_index=True)"
   ]
  },
  {
   "cell_type": "markdown",
   "metadata": {},
   "source": [
    "We can test our function right away. We want to train a model without undersampling to have a performance baseline and for comparison with other resampling methods."
   ]
  },
  {
   "cell_type": "code",
   "execution_count": 14,
   "metadata": {},
   "outputs": [
    {
     "name": "stdout",
     "output_type": "stream",
     "text": [
      "Resampling testing data using None\n",
      "Creating model using <class 'xgboost.sklearn.XGBClassifier'>\n",
      "Training, predicting, evaluating...\n",
      "Recall:  0.00% ; Precision:  0.00% ; F1 Score:  0.00%\n",
      "TP: 0 ; TN: 114709 ; FP: 0 ; FN: 4334\n"
     ]
    },
    {
     "data": {
      "image/png": "[encoded data removed]",
      "text/plain": [
       "<Figure size 432x288 with 2 Axes>"
      ]
     },
     "metadata": {
      "needs_background": "light"
     },
     "output_type": "display_data"
    }
   ],
   "source": [
    "# define (no)resampling method (simply return everything back)\n",
    "def noResample(X,y): return X,y\n",
    "# run our function\n",
    "comparison = performMethod(\"None\", XGBClassifier, noResample, X, target, comparison)"
   ]
  },
  {
   "cell_type": "markdown",
   "metadata": {},
   "source": [
    "After all our preparations are done, we can get back to reviewing resampling methods."
   ]
  },
  {
   "cell_type": "markdown",
   "metadata": {},
   "source": [
    "#### Random under-sampling"
   ]
  },
  {
   "cell_type": "code",
   "execution_count": 15,
   "metadata": {},
   "outputs": [
    {
     "name": "stdout",
     "output_type": "stream",
     "text": [
      "80 instances removed.\n"
     ]
    },
    {
     "data": {
      "image/png": "[encoded data removed]",
      "text/plain": [
       "<Figure size 432x288 with 1 Axes>"
      ]
     },
     "metadata": {
      "needs_background": "light"
     },
     "output_type": "display_data"
    }
   ],
   "source": [
    "# from imblearn.under_sampling import RandomUnderSampler\n",
    "\n",
    "# create an instance of the random under-sampler and perform under-sampling\n",
    "randomUnderSampler = RandomUnderSampler()\n",
    "X_us, y_us = randomUnderSampler.fit_resample(sX, sy)\n",
    "\n",
    "# print how much data has been removed\n",
    "print('{} instances removed.'.format(len(sX) - len(X_us)))\n",
    "\n",
    "# plot the under-sampled data\n",
    "plotDemonstration(X_us,y_us,\"Random under-sampling\")"
   ]
  },
  {
   "cell_type": "code",
   "execution_count": 16,
   "metadata": {},
   "outputs": [
    {
     "name": "stdout",
     "output_type": "stream",
     "text": [
      "Resampling testing data using Random Under-sampling\n",
      "Creating model using <class 'xgboost.sklearn.XGBClassifier'>\n",
      "Training, predicting, evaluating...\n",
      "Recall:  56.07% ; Precision:  5.31% ; F1 Score:  9.70%\n",
      "TP: 2430 ; TN: 71384 ; FP: 43325 ; FN: 1904\n"
     ]
    },
    {
     "data": {
      "image/png": "[encoded data removed]",
      "text/plain": [
       "<Figure size 432x288 with 2 Axes>"
      ]
     },
     "metadata": {
      "needs_background": "light"
     },
     "output_type": "display_data"
    }
   ],
   "source": [
    "# define under-sempling method function \n",
    "def underSample(X,y): \n",
    "    randomUnderSampler = RandomUnderSampler()\n",
    "    X_us, y_us = randomUnderSampler.fit_resample(X, y)\n",
    "    X_us = pd.DataFrame(X_us)\n",
    "    X_us.columns = X.columns\n",
    "    return X_us, y_us\n",
    "    \n",
    "# run our function\n",
    "comparison = performMethod(\"Random Under-sampling\", XGBClassifier, underSample, X, target, comparison)"
   ]
  },
  {
   "cell_type": "markdown",
   "metadata": {},
   "source": [
    "#### Random over-sampling"
   ]
  },
  {
   "cell_type": "code",
   "execution_count": 17,
   "metadata": {},
   "outputs": [
    {
     "name": "stdout",
     "output_type": "stream",
     "text": [
      "80 new instances created.\n"
     ]
    },
    {
     "data": {
      "image/png": "[encoded data removed]",
      "text/plain": [
       "<Figure size 432x288 with 1 Axes>"
      ]
     },
     "metadata": {
      "needs_background": "light"
     },
     "output_type": "display_data"
    }
   ],
   "source": [
    "# from imblearn.over_sampling import RandomOverSampler\n",
    "\n",
    "# create an instance of the random over-sampler and perform over-sampling\n",
    "randomOverSampler = RandomOverSampler()\n",
    "X_os, y_os = randomOverSampler.fit_sample(sX, sy)\n",
    "\n",
    "# print how much data has been added\n",
    "print('{} new instances created.'.format(len(X_os) - len(sX)))\n",
    "\n",
    "# plot the over-sampled data\n",
    "plotDemonstration(X_os,y_os,\"Random over-sampling\")"
   ]
  },
  {
   "cell_type": "code",
   "execution_count": 18,
   "metadata": {},
   "outputs": [
    {
     "name": "stdout",
     "output_type": "stream",
     "text": [
      "Resampling testing data using Random Over-sampling\n",
      "Creating model using <class 'xgboost.sklearn.XGBClassifier'>\n",
      "Training, predicting, evaluating...\n",
      "Recall:  55.70% ; Precision:  5.37% ; F1 Score:  9.79%\n",
      "TP: 2414 ; TN: 72153 ; FP: 42556 ; FN: 1920\n"
     ]
    },
    {
     "data": {
      "image/png": "[encoded data removed]",
      "text/plain": [
       "<Figure size 432x288 with 2 Axes>"
      ]
     },
     "metadata": {
      "needs_background": "light"
     },
     "output_type": "display_data"
    }
   ],
   "source": [
    "# define over-sampling method function \n",
    "def overSample(X,y): \n",
    "    randomOverSampler = RandomOverSampler()\n",
    "    X_os, y_os = randomOverSampler.fit_resample(X, y)\n",
    "    X_os = pd.DataFrame(X_os)\n",
    "    X_os.columns = X.columns\n",
    "    return X_os, y_os\n",
    "    \n",
    "# run our function\n",
    "comparison = performMethod(\"Random Over-sampling\", XGBClassifier, overSample, X, target, comparison)"
   ]
  },
  {
   "cell_type": "markdown",
   "metadata": {},
   "source": [
    "### Advancerd resampling methods\n",
    "\n",
    "#### SMOTE"
   ]
  },
  {
   "cell_type": "code",
   "execution_count": 19,
   "metadata": {},
   "outputs": [
    {
     "name": "stdout",
     "output_type": "stream",
     "text": [
      "80 new instances created.\n"
     ]
    },
    {
     "data": {
      "image/png": "[encoded data removed]",
      "text/plain": [
       "<Figure size 432x288 with 1 Axes>"
      ]
     },
     "metadata": {
      "needs_background": "light"
     },
     "output_type": "display_data"
    }
   ],
   "source": [
    "# from imblearn.over_sampling import SMOTE\n",
    "\n",
    "# create an instance of SMOTE and produce synthetic samples of minority class\n",
    "smote = SMOTE(ratio='minority')\n",
    "X_smote, y_smote = smote.fit_sample(sX, sy)\n",
    "\n",
    "# print how much data has been added\n",
    "print('{} new instances created.'.format(len(X_smote) - len(sX)))\n",
    "\n",
    "# plot the over-sampled data\n",
    "plotDemonstration(X_smote,y_smote,\"SMOTE (Synthetic samples)\")"
   ]
  },
  {
   "cell_type": "code",
   "execution_count": 20,
   "metadata": {
    "scrolled": false
   },
   "outputs": [
    {
     "name": "stdout",
     "output_type": "stream",
     "text": [
      "Resampling testing data using SMOTE\n",
      "Creating model using <class 'xgboost.sklearn.XGBClassifier'>\n",
      "Training, predicting, evaluating...\n",
      "Recall:  55.45% ; Precision:  5.39% ; F1 Score:  9.83%\n",
      "TP: 2403 ; TN: 72553 ; FP: 42156 ; FN: 1931\n"
     ]
    },
    {
     "data": {
      "image/png": "[encoded data removed]",
      "text/plain": [
       "<Figure size 432x288 with 2 Axes>"
      ]
     },
     "metadata": {
      "needs_background": "light"
     },
     "output_type": "display_data"
    }
   ],
   "source": [
    "# define over-sampling method function \n",
    "def smoteResample(X,y): \n",
    "    smote = SMOTE(ratio='minority')\n",
    "    X_smote, y_smote = smote.fit_sample(X, y)\n",
    "    X_smote = pd.DataFrame(X_smote)\n",
    "    X_smote.columns = X.columns\n",
    "    return X_smote, y_smote\n",
    "    \n",
    "# run our function\n",
    "comparison = performMethod(\"SMOTE\", XGBClassifier, overSample, X, target, comparison)"
   ]
  },
  {
   "cell_type": "markdown",
   "metadata": {},
   "source": [
    "#### Tomek Links"
   ]
  },
  {
   "cell_type": "code",
   "execution_count": 21,
   "metadata": {},
   "outputs": [
    {
     "name": "stdout",
     "output_type": "stream",
     "text": [
      "4 instances removed.\n"
     ]
    },
    {
     "data": {
      "image/png": "[encoded data removed]",
      "text/plain": [
       "<Figure size 432x288 with 1 Axes>"
      ]
     },
     "metadata": {
      "needs_background": "light"
     },
     "output_type": "display_data"
    }
   ],
   "source": [
    "# from imblearn.under_sampling import TomekLinks\n",
    "\n",
    "# create an instance of TomekLinks and undersample the majority class\n",
    "tomekL = TomekLinks(ratio='majority')\n",
    "X_tl, y_tl = tomekL.fit_resample(sX, sy)\n",
    "\n",
    "# print how much data has been removed\n",
    "print('{} instances removed.'.format(len(sX) - len(X_tl)))\n",
    "\n",
    "# plot the under-sampled data\n",
    "plotDemonstration(X_tl,y_tl,\"Tomek Links under-sampling\")"
   ]
  },
  {
   "cell_type": "code",
   "execution_count": 22,
   "metadata": {},
   "outputs": [
    {
     "name": "stdout",
     "output_type": "stream",
     "text": [
      "Resampling testing data using Tomek Links\n",
      "Creating model using <class 'xgboost.sklearn.XGBClassifier'>\n",
      "Training, predicting, evaluating...\n",
      "Recall:  0.00% ; Precision:  0.00% ; F1 Score:  0.00%\n",
      "TP: 0 ; TN: 114709 ; FP: 0 ; FN: 4334\n"
     ]
    },
    {
     "data": {
      "image/png": "[encoded data removed]",
      "text/plain": [
       "<Figure size 432x288 with 2 Axes>"
      ]
     },
     "metadata": {
      "needs_background": "light"
     },
     "output_type": "display_data"
    }
   ],
   "source": [
    "# define over-sampling method function \n",
    "def tomeklinksResample(X,y): \n",
    "    tomekL = TomekLinks(ratio='majority')\n",
    "    X_tl, y_tl = tomekL.fit_resample(X, y)\n",
    "    X_tl = pd.DataFrame(X_tl)\n",
    "    X_tl.columns = X.columns\n",
    "    return X_tl, y_tl\n",
    "    \n",
    "# run our function\n",
    "comparison = performMethod(\"Tomek Links\", XGBClassifier, tomeklinksResample, X, target, comparison)"
   ]
  },
  {
   "cell_type": "markdown",
   "metadata": {},
   "source": [
    "#### SMOTE + Tomek Links"
   ]
  },
  {
   "cell_type": "code",
   "execution_count": 23,
   "metadata": {},
   "outputs": [
    {
     "name": "stdout",
     "output_type": "stream",
     "text": [
      "80 new instances created.\n"
     ]
    },
    {
     "data": {
      "image/png": "[encoded data removed]",
      "text/plain": [
       "<Figure size 432x288 with 1 Axes>"
      ]
     },
     "metadata": {
      "needs_background": "light"
     },
     "output_type": "display_data"
    }
   ],
   "source": [
    "# from imblearn.combine import SMOTETomek\n",
    "\n",
    "# create an instance of SMOTETomek and resample data\n",
    "smotom = SMOTETomek(ratio='auto')\n",
    "X_smotom, y_smotom = smotom.fit_sample(sX, sy)\n",
    "\n",
    "# print how much data has been added\n",
    "print('{} new instances created.'.format(len(X_smotom) - len(sX)))\n",
    "\n",
    "# plot the resampled data\n",
    "plotDemonstration(X_smotom,y_smotom,\"SMOTE + Tomek Links\")"
   ]
  },
  {
   "cell_type": "code",
   "execution_count": 24,
   "metadata": {},
   "outputs": [
    {
     "name": "stdout",
     "output_type": "stream",
     "text": [
      "Resampling testing data using SMOTE + Tomek Links\n",
      "Creating model using <class 'xgboost.sklearn.XGBClassifier'>\n",
      "Training, predicting, evaluating...\n",
      "Recall:  0.00% ; Precision:  0.00% ; F1 Score:  0.00%\n",
      "TP: 0 ; TN: 114709 ; FP: 0 ; FN: 4334\n"
     ]
    },
    {
     "data": {
      "image/png": "[encoded data removed]",
      "text/plain": [
       "<Figure size 432x288 with 2 Axes>"
      ]
     },
     "metadata": {
      "needs_background": "light"
     },
     "output_type": "display_data"
    }
   ],
   "source": [
    "# define resampling method function \n",
    "def smoteTomekResample(X,y): \n",
    "    smotom = SMOTETomek(ratio='auto')\n",
    "    X_st, y_st = smotom.fit_resample(X, y)\n",
    "    X_st = pd.DataFrame(X_st)\n",
    "    X_st.columns = X.columns\n",
    "    return X_st, y_st\n",
    "    \n",
    "# run our function\n",
    "comparison = performMethod(\"SMOTE + Tomek Links\", XGBClassifier, smoteTomekResample, X, target, comparison)"
   ]
  },
  {
   "cell_type": "markdown",
   "metadata": {},
   "source": [
    "from imblearn.combine import SMOTEENN"
   ]
  },
  {
   "cell_type": "code",
   "execution_count": 25,
   "metadata": {},
   "outputs": [
    {
     "name": "stdout",
     "output_type": "stream",
     "text": [
      "61 new instances created.\n"
     ]
    },
    {
     "data": {
      "image/png": "[encoded data removed]",
      "text/plain": [
       "<Figure size 432x288 with 1 Axes>"
      ]
     },
     "metadata": {
      "needs_background": "light"
     },
     "output_type": "display_data"
    }
   ],
   "source": [
    "# from imblearn.combine import SMOTEENN \n",
    "\n",
    "# create an instance of SMOTE and produce synthetic samples of minority class\n",
    "smoteenn = SMOTEENN()\n",
    "X_smoteenn, y_smoteenn = smoteenn.fit_sample(sX, sy)\n",
    "\n",
    "# print how much data has been added\n",
    "print('{} new instances created.'.format(len(X_smoteenn) - len(sX)))\n",
    "\n",
    "# plot the over-sampled data\n",
    "plotDemonstration(X_smotom,y_smotom,\"SMOTEENN\")"
   ]
  },
  {
   "cell_type": "code",
   "execution_count": 26,
   "metadata": {},
   "outputs": [
    {
     "name": "stdout",
     "output_type": "stream",
     "text": [
      "Resampling testing data using SMOTEENN\n",
      "Creating model using <class 'xgboost.sklearn.XGBClassifier'>\n",
      "Training, predicting, evaluating...\n",
      "Recall:  0.00% ; Precision:  0.00% ; F1 Score:  0.00%\n",
      "TP: 0 ; TN: 114709 ; FP: 0 ; FN: 4334\n"
     ]
    },
    {
     "data": {
      "image/png": "[encoded data removed]",
      "text/plain": [
       "<Figure size 432x288 with 2 Axes>"
      ]
     },
     "metadata": {
      "needs_background": "light"
     },
     "output_type": "display_data"
    }
   ],
   "source": [
    "# define resampling method function \n",
    "def smoteennResample(X,y): \n",
    "    sen = SMOTEENN()\n",
    "    X_sen, y_sen = smotom.fit_resample(X, y)\n",
    "    X_sen = pd.DataFrame(X_sen)\n",
    "    X_sen.columns = X.columns\n",
    "    return X_sen, y_sen\n",
    "    \n",
    "# run our function\n",
    "comparison = performMethod(\"SMOTEENN\", XGBClassifier, smoteennResample, X, target, comparison)"
   ]
  },
  {
   "cell_type": "code",
   "execution_count": 27,
   "metadata": {},
   "outputs": [
    {
     "data": {
      "text/html": [
       "<div>\n",
       "<style scoped>\n",
       "    .dataframe tbody tr th:only-of-type {\n",
       "        vertical-align: middle;\n",
       "    }\n",
       "\n",
       "    .dataframe tbody tr th {\n",
       "        vertical-align: top;\n",
       "    }\n",
       "\n",
       "    .dataframe thead th {\n",
       "        text-align: right;\n",
       "    }\n",
       "</style>\n",
       "<table border=\"1\" class=\"dataframe\">\n",
       "  <thead>\n",
       "    <tr style=\"text-align: right;\">\n",
       "      <th></th>\n",
       "      <th>Method</th>\n",
       "      <th>TP</th>\n",
       "      <th>TN</th>\n",
       "      <th>FP</th>\n",
       "      <th>FN</th>\n",
       "      <th>Recall</th>\n",
       "      <th>Precision</th>\n",
       "      <th>F1 Score</th>\n",
       "    </tr>\n",
       "  </thead>\n",
       "  <tbody>\n",
       "    <tr>\n",
       "      <th>0</th>\n",
       "      <td>None</td>\n",
       "      <td>0</td>\n",
       "      <td>114709</td>\n",
       "      <td>0</td>\n",
       "      <td>4334</td>\n",
       "      <td>0.00%</td>\n",
       "      <td>0.00%</td>\n",
       "      <td>0.00%</td>\n",
       "    </tr>\n",
       "    <tr>\n",
       "      <th>1</th>\n",
       "      <td>Random Under-sampling</td>\n",
       "      <td>2430</td>\n",
       "      <td>71384</td>\n",
       "      <td>43325</td>\n",
       "      <td>1904</td>\n",
       "      <td>56.07%</td>\n",
       "      <td>5.31%</td>\n",
       "      <td>9.70%</td>\n",
       "    </tr>\n",
       "    <tr>\n",
       "      <th>2</th>\n",
       "      <td>Random Over-sampling</td>\n",
       "      <td>2414</td>\n",
       "      <td>72153</td>\n",
       "      <td>42556</td>\n",
       "      <td>1920</td>\n",
       "      <td>55.70%</td>\n",
       "      <td>5.37%</td>\n",
       "      <td>9.79%</td>\n",
       "    </tr>\n",
       "    <tr>\n",
       "      <th>3</th>\n",
       "      <td>SMOTE</td>\n",
       "      <td>2403</td>\n",
       "      <td>72553</td>\n",
       "      <td>42156</td>\n",
       "      <td>1931</td>\n",
       "      <td>55.45%</td>\n",
       "      <td>5.39%</td>\n",
       "      <td>9.83%</td>\n",
       "    </tr>\n",
       "    <tr>\n",
       "      <th>4</th>\n",
       "      <td>Tomek Links</td>\n",
       "      <td>0</td>\n",
       "      <td>114709</td>\n",
       "      <td>0</td>\n",
       "      <td>4334</td>\n",
       "      <td>0.00%</td>\n",
       "      <td>0.00%</td>\n",
       "      <td>0.00%</td>\n",
       "    </tr>\n",
       "    <tr>\n",
       "      <th>5</th>\n",
       "      <td>SMOTE + Tomek Links</td>\n",
       "      <td>0</td>\n",
       "      <td>114709</td>\n",
       "      <td>0</td>\n",
       "      <td>4334</td>\n",
       "      <td>0.00%</td>\n",
       "      <td>0.00%</td>\n",
       "      <td>0.00%</td>\n",
       "    </tr>\n",
       "    <tr>\n",
       "      <th>6</th>\n",
       "      <td>SMOTEENN</td>\n",
       "      <td>0</td>\n",
       "      <td>114709</td>\n",
       "      <td>0</td>\n",
       "      <td>4334</td>\n",
       "      <td>0.00%</td>\n",
       "      <td>0.00%</td>\n",
       "      <td>0.00%</td>\n",
       "    </tr>\n",
       "  </tbody>\n",
       "</table>\n",
       "</div>"
      ],
      "text/plain": [
       "                  Method    TP      TN     FP    FN  Recall Precision F1 Score\n",
       "0                   None     0  114709      0  4334   0.00%     0.00%    0.00%\n",
       "1  Random Under-sampling  2430   71384  43325  1904  56.07%     5.31%    9.70%\n",
       "2   Random Over-sampling  2414   72153  42556  1920  55.70%     5.37%    9.79%\n",
       "3                  SMOTE  2403   72553  42156  1931  55.45%     5.39%    9.83%\n",
       "4            Tomek Links     0  114709      0  4334   0.00%     0.00%    0.00%\n",
       "5    SMOTE + Tomek Links     0  114709      0  4334   0.00%     0.00%    0.00%\n",
       "6               SMOTEENN     0  114709      0  4334   0.00%     0.00%    0.00%"
      ]
     },
     "execution_count": 27,
     "metadata": {},
     "output_type": "execute_result"
    }
   ],
   "source": [
    "comparison"
   ]
  },
  {
   "cell_type": "markdown",
   "metadata": {},
   "source": [
    "For our dataset, SMOTE seems to be working the best."
   ]
  },
  {
   "cell_type": "markdown",
   "metadata": {},
   "source": [
    "## Conclusion\n",
    "We cannot really determine which approach is going to work best on a problem and the dataset you are working on. While working with unbalanced data you'll have to test many approaches to see which one works the best. Start small and build up your model. Try a few resampling methods, the SMOTE is a great baseline model to use. Use other metrics than accuracy to evaluate your model and train the model to pay more attention to the minority class using cost-sensitive learning. When you have your baseline model, try using more specific and advanced resampling methods. If you work with extremely unbalanced and noisy data, try using a different perspective on the problem (e.g. Anomaly detection). "
   ]
  }
 ],
 "metadata": {
  "kernelspec": {
   "display_name": "unbalanced-data",
   "language": "python",
   "name": "unbalanced-data"
  },
  "language_info": {
   "codemirror_mode": {
    "name": "ipython",
    "version": 3
   },
   "file_extension": ".py",
   "mimetype": "text/x-python",
   "name": "python",
   "nbconvert_exporter": "python",
   "pygments_lexer": "ipython3",
   "version": "3.6.8"
  }
 },
 "nbformat": 4,
 "nbformat_minor": 2
}
